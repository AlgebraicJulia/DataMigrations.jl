{
 "cells": [
  {
   "cell_type": "markdown",
   "source": [
    "# Introduction to Data Migrations"
   ],
   "metadata": {}
  },
  {
   "cell_type": "markdown",
   "source": [
    "DataMigrations.jl includes facilities for categorical data migrations.\n",
    "We'll start by example, working with some graph schemas from Catlab."
   ],
   "metadata": {}
  },
  {
   "outputs": [
    {
     "output_type": "execute_result",
     "data": {
      "text/plain": "DataMigration{Catlab.CategoricalAlgebra.FinCats.FinDomFunctorMap{Catlab.CategoricalAlgebra.FinCats.FinCatPresentation{Catlab.Theories.ThSchema.Meta.T, Union{Catlab.Theories.FreeSchema.AttrType, Catlab.Theories.FreeSchema.Ob}, Union{Catlab.Theories.FreeSchema.Attr, Catlab.Theories.FreeSchema.AttrType, Catlab.Theories.FreeSchema.Hom}}, Catlab.CategoricalAlgebra.Categories.TypeCat{Catlab.CategoricalAlgebra.Diagrams.SimpleDiagram{AlgebraicInterfaces.id, Catlab.CategoricalAlgebra.FinCats.FinCatPresentation{Catlab.Theories.ThSchema.Meta.T, Union{Catlab.Theories.FreeSchema.AttrType, Catlab.Theories.FreeSchema.Ob}, Union{Catlab.Theories.FreeSchema.Attr, Catlab.Theories.FreeSchema.AttrType, Catlab.Theories.FreeSchema.Hom}}, D} where D<:(Catlab.CategoricalAlgebra.Categories.Functor{<:Catlab.CategoricalAlgebra.Categories.Category{Ob, Hom, Catlab.CategoricalAlgebra.FinCats.FinCatSize} where {Ob, Hom}, Catlab.CategoricalAlgebra.FinCats.FinCatPresentation{Catlab.Theories.ThSchema.Meta.T, Union{Catlab.Theories.FreeSchema.AttrType, Catlab.Theories.FreeSchema.Ob}, Union{Catlab.Theories.FreeSchema.Attr, Catlab.Theories.FreeSchema.AttrType, Catlab.Theories.FreeSchema.Hom}}}), QueryDiagramHom{AlgebraicInterfaces.id, Catlab.CategoricalAlgebra.FinCats.FinCatPresentation{Catlab.Theories.ThSchema.Meta.T, Union{Catlab.Theories.FreeSchema.AttrType, Catlab.Theories.FreeSchema.Ob}, Union{Catlab.Theories.FreeSchema.Attr, Catlab.Theories.FreeSchema.AttrType, Catlab.Theories.FreeSchema.Hom}}, Catlab.CategoricalAlgebra.FinCats.FinDomFunctorMap{Catlab.CategoricalAlgebra.FinCats.FinCatPresentation{Catlab.Theories.ThSchema.Meta.T, Union{Catlab.Theories.FreeSchema.AttrType, Catlab.Theories.FreeSchema.Ob}, Union{Catlab.Theories.FreeSchema.Attr, Catlab.Theories.FreeSchema.AttrType, Catlab.Theories.FreeSchema.Hom}}, Catlab.CategoricalAlgebra.FinCats.FinCatPresentation{Catlab.Theories.ThSchema.Meta.T, Union{Catlab.Theories.FreeSchema.AttrType, Catlab.Theories.FreeSchema.Ob}, Union{Catlab.Theories.FreeSchema.Attr, Catlab.Theories.FreeSchema.AttrType, Catlab.Theories.FreeSchema.Hom}}, Dict{Symbol, Catlab.Theories.FreeSchema.Ob{:generator}}, Dict{Any, Any}}, Φ, D} where {Φ<:(Catlab.CategoricalAlgebra.Categories.Transformation{C, D, Dom, Codom} where {C<:(Catlab.CategoricalAlgebra.Categories.Category{Ob, Hom, Catlab.CategoricalAlgebra.FinCats.FinCatSize} where {Ob, Hom}), D<:Catlab.CategoricalAlgebra.Categories.Category, Dom<:(Catlab.CategoricalAlgebra.Categories.Functor{Dom} where Dom<:(Catlab.CategoricalAlgebra.Categories.Category{Ob, Hom, Catlab.CategoricalAlgebra.FinCats.FinCatSize} where {Ob, Hom})), Codom<:(Catlab.CategoricalAlgebra.Categories.Functor{Dom} where Dom<:(Catlab.CategoricalAlgebra.Categories.Category{Ob, Hom, Catlab.CategoricalAlgebra.FinCats.FinCatSize} where {Ob, Hom}))}), D<:(Catlab.CategoricalAlgebra.Categories.Functor{<:Catlab.CategoricalAlgebra.Categories.Category{Ob, Hom, Catlab.CategoricalAlgebra.FinCats.FinCatSize} where {Ob, Hom}, Catlab.CategoricalAlgebra.FinCats.FinCatPresentation{Catlab.Theories.ThSchema.Meta.T, Union{Catlab.Theories.FreeSchema.AttrType, Catlab.Theories.FreeSchema.Ob}, Union{Catlab.Theories.FreeSchema.Attr, Catlab.Theories.FreeSchema.AttrType, Catlab.Theories.FreeSchema.Hom}}})}}, Dict{Symbol, Catlab.CategoricalAlgebra.Diagrams.SimpleDiagram{AlgebraicInterfaces.id, Catlab.CategoricalAlgebra.FinCats.FinCatPresentation{Catlab.Theories.ThSchema.Meta.T, Union{Catlab.Theories.FreeSchema.AttrType, Catlab.Theories.FreeSchema.Ob}, Union{Catlab.Theories.FreeSchema.Attr, Catlab.Theories.FreeSchema.AttrType, Catlab.Theories.FreeSchema.Hom}}, D} where D<:(Catlab.CategoricalAlgebra.Categories.Functor{<:Catlab.CategoricalAlgebra.Categories.Category{Ob, Hom, Catlab.CategoricalAlgebra.FinCats.FinCatSize} where {Ob, Hom}, Catlab.CategoricalAlgebra.FinCats.FinCatPresentation{Catlab.Theories.ThSchema.Meta.T, Union{Catlab.Theories.FreeSchema.AttrType, Catlab.Theories.FreeSchema.Ob}, Union{Catlab.Theories.FreeSchema.Attr, Catlab.Theories.FreeSchema.AttrType, Catlab.Theories.FreeSchema.Hom}}})}, Dict{Symbol, QueryDiagramHom{AlgebraicInterfaces.id, Catlab.CategoricalAlgebra.FinCats.FinCatPresentation{Catlab.Theories.ThSchema.Meta.T, Union{Catlab.Theories.FreeSchema.AttrType, Catlab.Theories.FreeSchema.Ob}, Union{Catlab.Theories.FreeSchema.Attr, Catlab.Theories.FreeSchema.AttrType, Catlab.Theories.FreeSchema.Hom}}, Catlab.CategoricalAlgebra.FinCats.FinDomFunctorMap{Catlab.CategoricalAlgebra.FinCats.FinCatPresentation{Catlab.Theories.ThSchema.Meta.T, Union{Catlab.Theories.FreeSchema.AttrType, Catlab.Theories.FreeSchema.Ob}, Union{Catlab.Theories.FreeSchema.Attr, Catlab.Theories.FreeSchema.AttrType, Catlab.Theories.FreeSchema.Hom}}, Catlab.CategoricalAlgebra.FinCats.FinCatPresentation{Catlab.Theories.ThSchema.Meta.T, Union{Catlab.Theories.FreeSchema.AttrType, Catlab.Theories.FreeSchema.Ob}, Union{Catlab.Theories.FreeSchema.Attr, Catlab.Theories.FreeSchema.AttrType, Catlab.Theories.FreeSchema.Hom}}, Dict{Symbol, Catlab.Theories.FreeSchema.Ob{:generator}}, Dict{Any, Any}}, Φ, D} where {Φ<:(Catlab.CategoricalAlgebra.Categories.Transformation{C, D, Dom, Codom} where {C<:(Catlab.CategoricalAlgebra.Categories.Category{Ob, Hom, Catlab.CategoricalAlgebra.FinCats.FinCatSize} where {Ob, Hom}), D<:Catlab.CategoricalAlgebra.Categories.Category, Dom<:(Catlab.CategoricalAlgebra.Categories.Functor{Dom} where Dom<:(Catlab.CategoricalAlgebra.Categories.Category{Ob, Hom, Catlab.CategoricalAlgebra.FinCats.FinCatSize} where {Ob, Hom})), Codom<:(Catlab.CategoricalAlgebra.Categories.Functor{Dom} where Dom<:(Catlab.CategoricalAlgebra.Categories.Category{Ob, Hom, Catlab.CategoricalAlgebra.FinCats.FinCatSize} where {Ob, Hom}))}), D<:(Catlab.CategoricalAlgebra.Categories.Functor{<:Catlab.CategoricalAlgebra.Categories.Category{Ob, Hom, Catlab.CategoricalAlgebra.FinCats.FinCatSize} where {Ob, Hom}, Catlab.CategoricalAlgebra.FinCats.FinCatPresentation{Catlab.Theories.ThSchema.Meta.T, Union{Catlab.Theories.FreeSchema.AttrType, Catlab.Theories.FreeSchema.Ob}, Union{Catlab.Theories.FreeSchema.Attr, Catlab.Theories.FreeSchema.AttrType, Catlab.Theories.FreeSchema.Hom}}})}}}, Dict{Any, Union{}}}(FinDomFunctor(Dict{Symbol, Catlab.CategoricalAlgebra.Diagrams.SimpleDiagram{AlgebraicInterfaces.id, Catlab.CategoricalAlgebra.FinCats.FinCatPresentation{Catlab.Theories.ThSchema.Meta.T, Union{Catlab.Theories.FreeSchema.AttrType, Catlab.Theories.FreeSchema.Ob}, Union{Catlab.Theories.FreeSchema.Attr, Catlab.Theories.FreeSchema.AttrType, Catlab.Theories.FreeSchema.Hom}}, D} where D<:(Catlab.CategoricalAlgebra.Categories.Functor{<:Catlab.CategoricalAlgebra.Categories.Category{Ob, Hom, Catlab.CategoricalAlgebra.FinCats.FinCatSize} where {Ob, Hom}, Catlab.CategoricalAlgebra.FinCats.FinCatPresentation{Catlab.Theories.ThSchema.Meta.T, Union{Catlab.Theories.FreeSchema.AttrType, Catlab.Theories.FreeSchema.Ob}, Union{Catlab.Theories.FreeSchema.Attr, Catlab.Theories.FreeSchema.AttrType, Catlab.Theories.FreeSchema.Hom}}})}(:V => Diagram{id}(FinFunctor(Dict{Symbol, Catlab.Theories.FreeSchema.Ob{:generator}}(:V => V), Dict{Symbol, Union{Catlab.Theories.FreeSchema.Attr, Catlab.Theories.FreeSchema.AttrType, Catlab.Theories.FreeSchema.Hom}}(), FinCat(Presentation{T, Symbol}(Catlab.Theories.FreeSchema, (Ob = Ob{:generator}[V], Hom = Hom{:generator}[], AttrType = AttrType{:generator}[], Attr = Attr{:generator}[]), Dict(:V=>(:Ob=>1)), Pair[])), FinCat(Presentation{T, Symbol}(Catlab.Theories.FreeSchema, (Ob = Ob{:generator}[V, E], Hom = Hom{:generator}[src, tgt], AttrType = AttrType{:generator}[], Attr = Attr{:generator}[]), Dict(:src=>(:Hom=>1), :V=>(:Ob=>1), :E=>(:Ob=>2), :tgt=>(:Hom=>2)), Pair[])))), :E => Diagram{id}(FinFunctor(Dict{Symbol, Catlab.Theories.FreeSchema.Ob{:generator}}(:v => V, :e => E), Dict{Any, Any}(), FinCat(Presentation{T, Symbol}(Catlab.Theories.FreeSchema, (Ob = Ob{:generator}[e, v], Hom = Hom{:generator}[], AttrType = AttrType{:generator}[], Attr = Attr{:generator}[]), Dict(:e=>(:Ob=>1), :v=>(:Ob=>2)), Pair[])), FinCat(Presentation{T, Symbol}(Catlab.Theories.FreeSchema, (Ob = Ob{:generator}[V, E], Hom = Hom{:generator}[src, tgt], AttrType = AttrType{:generator}[], Attr = Attr{:generator}[]), Dict(:src=>(:Hom=>1), :V=>(:Ob=>1), :E=>(:Ob=>2), :tgt=>(:Hom=>2)), Pair[]))))), Dict{Symbol, QueryDiagramHom{AlgebraicInterfaces.id, Catlab.CategoricalAlgebra.FinCats.FinCatPresentation{Catlab.Theories.ThSchema.Meta.T, Union{Catlab.Theories.FreeSchema.AttrType, Catlab.Theories.FreeSchema.Ob}, Union{Catlab.Theories.FreeSchema.Attr, Catlab.Theories.FreeSchema.AttrType, Catlab.Theories.FreeSchema.Hom}}, Catlab.CategoricalAlgebra.FinCats.FinDomFunctorMap{Catlab.CategoricalAlgebra.FinCats.FinCatPresentation{Catlab.Theories.ThSchema.Meta.T, Union{Catlab.Theories.FreeSchema.AttrType, Catlab.Theories.FreeSchema.Ob}, Union{Catlab.Theories.FreeSchema.Attr, Catlab.Theories.FreeSchema.AttrType, Catlab.Theories.FreeSchema.Hom}}, Catlab.CategoricalAlgebra.FinCats.FinCatPresentation{Catlab.Theories.ThSchema.Meta.T, Union{Catlab.Theories.FreeSchema.AttrType, Catlab.Theories.FreeSchema.Ob}, Union{Catlab.Theories.FreeSchema.Attr, Catlab.Theories.FreeSchema.AttrType, Catlab.Theories.FreeSchema.Hom}}, Dict{Symbol, Catlab.Theories.FreeSchema.Ob{:generator}}, Dict{Any, Any}}, Φ, D} where {Φ<:(Catlab.CategoricalAlgebra.Categories.Transformation{C, D, Dom, Codom} where {C<:(Catlab.CategoricalAlgebra.Categories.Category{Ob, Hom, Catlab.CategoricalAlgebra.FinCats.FinCatSize} where {Ob, Hom}), D<:Catlab.CategoricalAlgebra.Categories.Category, Dom<:(Catlab.CategoricalAlgebra.Categories.Functor{Dom} where Dom<:(Catlab.CategoricalAlgebra.Categories.Category{Ob, Hom, Catlab.CategoricalAlgebra.FinCats.FinCatSize} where {Ob, Hom})), Codom<:(Catlab.CategoricalAlgebra.Categories.Functor{Dom} where Dom<:(Catlab.CategoricalAlgebra.Categories.Category{Ob, Hom, Catlab.CategoricalAlgebra.FinCats.FinCatSize} where {Ob, Hom}))}), D<:(Catlab.CategoricalAlgebra.Categories.Functor{<:Catlab.CategoricalAlgebra.Categories.Category{Ob, Hom, Catlab.CategoricalAlgebra.FinCats.FinCatSize} where {Ob, Hom}, Catlab.CategoricalAlgebra.FinCats.FinCatPresentation{Catlab.Theories.ThSchema.Meta.T, Union{Catlab.Theories.FreeSchema.AttrType, Catlab.Theories.FreeSchema.Ob}, Union{Catlab.Theories.FreeSchema.Attr, Catlab.Theories.FreeSchema.AttrType, Catlab.Theories.FreeSchema.Hom}}})}}(:refl => DiagramHom{id}([(v, id(V))], [], FinFunctor(Dict{Symbol, Ob{:generator}}(:V=>V), Dict{Symbol, Union{Attr, AttrType, Hom}}(), …), FinFunctor(Dict{Symbol, Ob{:generator}}(:v=>V, :e=>E), Dict{Any, Any}(), …)), :src => DiagramHom{id}([(V, src), (V, id(V))], [], FinFunctor(Dict{Symbol, Ob{:generator}}(:v=>V, :e=>E), Dict{Any, Any}(), …), FinFunctor(Dict{Symbol, Ob{:generator}}(:V=>V), Dict{Symbol, Union{Attr, AttrType, Hom}}(), …)), :tgt => DiagramHom{id}([(V, tgt), (V, id(V))], [], FinFunctor(Dict{Symbol, Ob{:generator}}(:v=>V, :e=>E), Dict{Any, Any}(), …), FinFunctor(Dict{Symbol, Ob{:generator}}(:V=>V), Dict{Symbol, Union{Attr, AttrType, Hom}}(), …))), FinCat(Presentation{T, Symbol}(Catlab.Theories.FreeSchema, (Ob = Ob{:generator}[V, E], Hom = Hom{:generator}[src, tgt, refl], AttrType = AttrType{:generator}[], Attr = Attr{:generator}[]), Dict(:refl=>(:Hom=>3), :src=>(:Hom=>1), :V=>(:Ob=>1), :E=>(:Ob=>2), :tgt=>(:Hom=>2)), Pair[])), TypeCat(Catlab.CategoricalAlgebra.Diagrams.SimpleDiagram{AlgebraicInterfaces.id, Catlab.CategoricalAlgebra.FinCats.FinCatPresentation{Catlab.Theories.ThSchema.Meta.T, Union{Catlab.Theories.FreeSchema.AttrType, Catlab.Theories.FreeSchema.Ob}, Union{Catlab.Theories.FreeSchema.Attr, Catlab.Theories.FreeSchema.AttrType, Catlab.Theories.FreeSchema.Hom}}, D} where D<:(Catlab.CategoricalAlgebra.Categories.Functor{<:Catlab.CategoricalAlgebra.Categories.Category{Ob, Hom, Catlab.CategoricalAlgebra.FinCats.FinCatSize} where {Ob, Hom}, Catlab.CategoricalAlgebra.FinCats.FinCatPresentation{Catlab.Theories.ThSchema.Meta.T, Union{Catlab.Theories.FreeSchema.AttrType, Catlab.Theories.FreeSchema.Ob}, Union{Catlab.Theories.FreeSchema.Attr, Catlab.Theories.FreeSchema.AttrType, Catlab.Theories.FreeSchema.Hom}}}), QueryDiagramHom{AlgebraicInterfaces.id, Catlab.CategoricalAlgebra.FinCats.FinCatPresentation{Catlab.Theories.ThSchema.Meta.T, Union{Catlab.Theories.FreeSchema.AttrType, Catlab.Theories.FreeSchema.Ob}, Union{Catlab.Theories.FreeSchema.Attr, Catlab.Theories.FreeSchema.AttrType, Catlab.Theories.FreeSchema.Hom}}, Catlab.CategoricalAlgebra.FinCats.FinDomFunctorMap{Catlab.CategoricalAlgebra.FinCats.FinCatPresentation{Catlab.Theories.ThSchema.Meta.T, Union{Catlab.Theories.FreeSchema.AttrType, Catlab.Theories.FreeSchema.Ob}, Union{Catlab.Theories.FreeSchema.Attr, Catlab.Theories.FreeSchema.AttrType, Catlab.Theories.FreeSchema.Hom}}, Catlab.CategoricalAlgebra.FinCats.FinCatPresentation{Catlab.Theories.ThSchema.Meta.T, Union{Catlab.Theories.FreeSchema.AttrType, Catlab.Theories.FreeSchema.Ob}, Union{Catlab.Theories.FreeSchema.Attr, Catlab.Theories.FreeSchema.AttrType, Catlab.Theories.FreeSchema.Hom}}, Dict{Symbol, Catlab.Theories.FreeSchema.Ob{:generator}}, Dict{Any, Any}}, Φ, D} where {Φ<:(Catlab.CategoricalAlgebra.Categories.Transformation{C, D, Dom, Codom} where {C<:(Catlab.CategoricalAlgebra.Categories.Category{Ob, Hom, Catlab.CategoricalAlgebra.FinCats.FinCatSize} where {Ob, Hom}), D<:Catlab.CategoricalAlgebra.Categories.Category, Dom<:(Catlab.CategoricalAlgebra.Categories.Functor{Dom} where Dom<:(Catlab.CategoricalAlgebra.Categories.Category{Ob, Hom, Catlab.CategoricalAlgebra.FinCats.FinCatSize} where {Ob, Hom})), Codom<:(Catlab.CategoricalAlgebra.Categories.Functor{Dom} where Dom<:(Catlab.CategoricalAlgebra.Categories.Category{Ob, Hom, Catlab.CategoricalAlgebra.FinCats.FinCatSize} where {Ob, Hom}))}), D<:(Catlab.CategoricalAlgebra.Categories.Functor{<:Catlab.CategoricalAlgebra.Categories.Category{Ob, Hom, Catlab.CategoricalAlgebra.FinCats.FinCatSize} where {Ob, Hom}, Catlab.CategoricalAlgebra.FinCats.FinCatPresentation{Catlab.Theories.ThSchema.Meta.T, Union{Catlab.Theories.FreeSchema.AttrType, Catlab.Theories.FreeSchema.Ob}, Union{Catlab.Theories.FreeSchema.Attr, Catlab.Theories.FreeSchema.AttrType, Catlab.Theories.FreeSchema.Hom}}})})), Dict{Any, Union{}}())"
     },
     "metadata": {},
     "execution_count": 1
    }
   ],
   "cell_type": "code",
   "source": [
    "using Catlab, DataMigrations\n",
    "M = @migration SchReflexiveGraph SchGraph begin\n",
    "  V => V\n",
    "  E => @cases begin e::E; v::V end\n",
    "  src => begin e => src; v => id(V) end\n",
    "  tgt => begin e => tgt; v => id(V) end\n",
    "  refl => v\n",
    "end"
   ],
   "metadata": {},
   "execution_count": 1
  },
  {
   "cell_type": "markdown",
   "source": [
    "This is a migration from `SchReflexiveGraph` to `SchGraph`.\n",
    "Every call to `@migration` constructs a *contravariant*\n",
    "data migration, which means in this case that `M` will\n",
    "turn graphs into reflexive graphs.\n",
    "To construct `M`, we construct a functor whose domain\n",
    "is `SchReflexiveGraph`. The codomain is not just `SchGraph`,\n",
    "though! Before we get into that, let's understand what the\n",
    "syntax is signifying more concretely."
   ],
   "metadata": {}
  },
  {
   "cell_type": "markdown",
   "source": [
    "In general, each assignment statement `a => b` means\n",
    "\"when I migrate a graph `G` to a reflexive graph `H` with this\n",
    "migration, I want the `a` in `H` to be given by `b`.\"\n",
    "`b` will be some expression that makes sense in terms of the\n",
    "*original* graph `G`."
   ],
   "metadata": {}
  },
  {
   "cell_type": "markdown",
   "source": [
    "Thus the first line `V => V` is easy: we want the vertices of `H`\n",
    "to be the same as the vertices of `G`. For the second line,\n",
    "`E => @cases begin e::E; v::V end``\n",
    "things begin to get interesting. What this is saying is that we\n",
    "want an *edge* in `H` to be *either* an edge in `G` *or* a vertex\n",
    "in `G`. Thus both `E` and `V` refer to those sorts for `G`.\n",
    "The little `e` and `v` function as references for later."
   ],
   "metadata": {}
  },
  {
   "cell_type": "markdown",
   "source": [
    "Next we have to define our migration on the homs in `SchReflexiveGraph`.\n",
    "The line\n",
    "`src => begin e => src; v => id(V) end`\n",
    "says that we want the `src` function in our new reflexive graph `H` to\n",
    "be given by sending an edge to its original `src` and a vertex to itself.\n",
    "The `tgt` function of `H` behaves much the same.\n",
    "Finally, we need `refl` to be a function from `H`'s `V` to `H`'s `E`,\n",
    "and the only likely way to do that is to send a vertex to itself via `v`.\n",
    "(So you can think of `e` and `v` as the two inclusions into the coproduct,\n",
    "if you like.)"
   ],
   "metadata": {}
  },
  {
   "cell_type": "markdown",
   "source": [
    "All in all, what have we done? Let's give it a try!"
   ],
   "metadata": {}
  },
  {
   "outputs": [
    {
     "output_type": "execute_result",
     "data": {
      "text/plain": "Catlab.Graphs.BasicGraphs.ReflexiveGraph {V:3, E:3}\n┌───┬──────┐\n│\u001b[1m V │\u001b[1m refl │\n├───┼──────┤\n│\u001b[1m 1 │    1 │\n│\u001b[1m 2 │    2 │\n│\u001b[1m 3 │    3 │\n└───┴──────┘\n┌───┬─────┬─────┐\n│\u001b[1m E │\u001b[1m src │\u001b[1m tgt │\n├───┼─────┼─────┤\n│\u001b[1m 1 │   1 │   1 │\n│\u001b[1m 2 │   2 │   2 │\n│\u001b[1m 3 │   3 │   3 │\n└───┴─────┴─────┘\n",
      "text/html": [
       "<div class=\"c-set\">\n",
       "<span class=\"c-set-summary\">Catlab.Graphs.BasicGraphs.ReflexiveGraph {V:3, E:3}</span>\n",
       "<table>\n",
       "  <thead>\n",
       "    <tr class = \"header headerLastRow\">\n",
       "      <th class = \"rowLabel\" style = \"font-weight: bold; text-align: right;\">V</th>\n",
       "      <th style = \"text-align: right;\">refl</th>\n",
       "    </tr>\n",
       "  </thead>\n",
       "  <tbody>\n",
       "    <tr>\n",
       "      <td class = \"rowLabel\" style = \"font-weight: bold; text-align: right;\">1</td>\n",
       "      <td style = \"text-align: right;\">1</td>\n",
       "    </tr>\n",
       "    <tr>\n",
       "      <td class = \"rowLabel\" style = \"font-weight: bold; text-align: right;\">2</td>\n",
       "      <td style = \"text-align: right;\">2</td>\n",
       "    </tr>\n",
       "    <tr>\n",
       "      <td class = \"rowLabel\" style = \"font-weight: bold; text-align: right;\">3</td>\n",
       "      <td style = \"text-align: right;\">3</td>\n",
       "    </tr>\n",
       "  </tbody>\n",
       "</table>\n",
       "<table>\n",
       "  <thead>\n",
       "    <tr class = \"header headerLastRow\">\n",
       "      <th class = \"rowLabel\" style = \"font-weight: bold; text-align: right;\">E</th>\n",
       "      <th style = \"text-align: right;\">src</th>\n",
       "      <th style = \"text-align: right;\">tgt</th>\n",
       "    </tr>\n",
       "  </thead>\n",
       "  <tbody>\n",
       "    <tr>\n",
       "      <td class = \"rowLabel\" style = \"font-weight: bold; text-align: right;\">1</td>\n",
       "      <td style = \"text-align: right;\">1</td>\n",
       "      <td style = \"text-align: right;\">1</td>\n",
       "    </tr>\n",
       "    <tr>\n",
       "      <td class = \"rowLabel\" style = \"font-weight: bold; text-align: right;\">2</td>\n",
       "      <td style = \"text-align: right;\">2</td>\n",
       "      <td style = \"text-align: right;\">2</td>\n",
       "    </tr>\n",
       "    <tr>\n",
       "      <td class = \"rowLabel\" style = \"font-weight: bold; text-align: right;\">3</td>\n",
       "      <td style = \"text-align: right;\">3</td>\n",
       "      <td style = \"text-align: right;\">3</td>\n",
       "    </tr>\n",
       "  </tbody>\n",
       "</table>\n",
       "</div>\n"
      ]
     },
     "metadata": {},
     "execution_count": 2
    }
   ],
   "cell_type": "code",
   "source": [
    "G = Graph(3)\n",
    "H = migrate(ReflexiveGraph,G,M)"
   ],
   "metadata": {},
   "execution_count": 2
  },
  {
   "cell_type": "markdown",
   "source": [
    "We see that `M` takes the discrete graph on 3 vertices to the discrete\n",
    "reflexive graph on 3 vertices; that is, `M` just adds a new loop to each\n",
    "vertex. And there's our first data migration!"
   ],
   "metadata": {}
  },
  {
   "cell_type": "markdown",
   "source": [
    "That was an example of a *colimit* migration, in that in involved\n",
    "building a disjoint union, i.e. coproduct. Let's now look at an example\n",
    "of a limit migration. And why not make things look a bit more practical?\n",
    "Here's a schema for some tasks and workers, where we can assign times\n",
    "for a job to be done and a worker who's supposedly going to do that job\n",
    "at that time."
   ],
   "metadata": {}
  },
  {
   "outputs": [
    {
     "output_type": "execute_result",
     "data": {
      "text/plain": "Main.var\"##231\".Schedule"
     },
     "metadata": {},
     "execution_count": 3
    }
   ],
   "cell_type": "code",
   "source": [
    "@present SchSchedule(FreeSchema) begin\n",
    "  Jobs::Ob\n",
    "  Workers::Ob\n",
    "  assignment::Hom(Jobs,Workers)\n",
    "\n",
    "  Time::AttrType\n",
    "  time::Attr(Jobs,Time)\n",
    "end\n",
    "@acset_type Schedule(SchSchedule,index = [:assignment])"
   ],
   "metadata": {},
   "execution_count": 3
  },
  {
   "cell_type": "markdown",
   "source": [
    "Now let's construct a simple migration to find jobs assigned to the same\n",
    "worker at the same time."
   ],
   "metadata": {}
  },
  {
   "outputs": [
    {
     "output_type": "execute_result",
     "data": {
      "text/plain": "Main.var\"##231\".Conflicts"
     },
     "metadata": {},
     "execution_count": 4
    }
   ],
   "cell_type": "code",
   "source": [
    "@present SchConflicts(FreeSchema) begin\n",
    "  ConflictedPairs::Ob\n",
    "  Job1::Ob\n",
    "  Job2::Ob\n",
    "  Workers::Ob\n",
    "  assignment::Hom(ConflictedPairs,Workers)\n",
    "  job1::Hom(ConflictedPairs,Job1)\n",
    "  job2::Hom(ConflictedPairs,Job2)\n",
    "\n",
    "  Time::AttrType\n",
    "  time::Attr(ConflictedPairs,Time)\n",
    "end\n",
    "@acset_type Conflicts(SchConflicts,index = [:assignment])"
   ],
   "metadata": {},
   "execution_count": 4
  },
  {
   "cell_type": "markdown",
   "source": [
    "The key thing is going to be to construct the set of conflicted pairs:\n",
    "pairs (x,y) of jobs assigned to the same worker at the same time.\n",
    "This is a perfect job for a *limit* migration."
   ],
   "metadata": {}
  },
  {
   "outputs": [
    {
     "output_type": "execute_result",
     "data": {
      "text/plain": "DataMigration{Catlab.CategoricalAlgebra.FinCats.FinDomFunctorMap{Catlab.CategoricalAlgebra.FinCats.FinCatPresentation{Catlab.Theories.ThSchema.Meta.T, Union{Catlab.Theories.FreeSchema.AttrType, Catlab.Theories.FreeSchema.Ob}, Union{Catlab.Theories.FreeSchema.Attr, Catlab.Theories.FreeSchema.AttrType, Catlab.Theories.FreeSchema.Hom}}, Catlab.CategoricalAlgebra.Categories.TypeCat{Catlab.CategoricalAlgebra.Diagrams.SimpleDiagram{GATlab.Stdlib.StdModels.op, Catlab.CategoricalAlgebra.FinCats.FinCatPresentation{Catlab.Theories.ThSchema.Meta.T, Union{Catlab.Theories.FreeSchema.AttrType, Catlab.Theories.FreeSchema.Ob}, Union{Catlab.Theories.FreeSchema.Attr, Catlab.Theories.FreeSchema.AttrType, Catlab.Theories.FreeSchema.Hom}}, D} where D<:(Catlab.CategoricalAlgebra.Categories.Functor{<:Catlab.CategoricalAlgebra.Categories.Category{Ob, Hom, Catlab.CategoricalAlgebra.FinCats.FinCatSize} where {Ob, Hom}, Catlab.CategoricalAlgebra.FinCats.FinCatPresentation{Catlab.Theories.ThSchema.Meta.T, Union{Catlab.Theories.FreeSchema.AttrType, Catlab.Theories.FreeSchema.Ob}, Union{Catlab.Theories.FreeSchema.Attr, Catlab.Theories.FreeSchema.AttrType, Catlab.Theories.FreeSchema.Hom}}}), Catlab.CategoricalAlgebra.Diagrams.SimpleDiagramHom{GATlab.Stdlib.StdModels.op, Catlab.CategoricalAlgebra.FinCats.FinCatPresentation{Catlab.Theories.ThSchema.Meta.T, Union{Catlab.Theories.FreeSchema.AttrType, Catlab.Theories.FreeSchema.Ob}, Union{Catlab.Theories.FreeSchema.Attr, Catlab.Theories.FreeSchema.AttrType, Catlab.Theories.FreeSchema.Hom}}, Catlab.CategoricalAlgebra.FinCats.FinDomFunctorMap{Catlab.CategoricalAlgebra.FinCats.FinCatPresentation{Catlab.Theories.ThSchema.Meta.T, Union{Catlab.Theories.FreeSchema.AttrType, Catlab.Theories.FreeSchema.Ob}, Union{Catlab.Theories.FreeSchema.Attr, Catlab.Theories.FreeSchema.AttrType, Catlab.Theories.FreeSchema.Hom}}, Catlab.CategoricalAlgebra.FinCats.FinCatPresentation{Catlab.Theories.ThSchema.Meta.T, Union{Catlab.Theories.FreeSchema.AttrType, Catlab.Theories.FreeSchema.Ob}, Union{Catlab.Theories.FreeSchema.Attr, Catlab.Theories.FreeSchema.AttrType, Catlab.Theories.FreeSchema.Hom}}, Dict{Symbol, Catlab.Theories.FreeSchema.Ob{:generator}}, Dict{Any, Any}}, Φ, Catlab.CategoricalAlgebra.FinCats.FinDomFunctorMap{Catlab.CategoricalAlgebra.FinCats.FinCatPresentation{Catlab.Theories.ThSchema.Meta.T, Union{Catlab.Theories.FreeSchema.AttrType, Catlab.Theories.FreeSchema.Ob}, Union{Catlab.Theories.FreeSchema.Attr, Catlab.Theories.FreeSchema.AttrType, Catlab.Theories.FreeSchema.Hom}}, Catlab.CategoricalAlgebra.FinCats.FinCatPresentation{Catlab.Theories.ThSchema.Meta.T, Union{Catlab.Theories.FreeSchema.AttrType, Catlab.Theories.FreeSchema.Ob}, Union{Catlab.Theories.FreeSchema.Attr, Catlab.Theories.FreeSchema.AttrType, Catlab.Theories.FreeSchema.Hom}}, Dict{Symbol, GATlab.Models.SymbolicModels.GATExpr{:generator}}, Dict{Symbol, GATlab.Models.SymbolicModels.GATExpr{:generator}}}} where Φ<:(Catlab.CategoricalAlgebra.Categories.Transformation{C, D, Dom, Codom} where {C<:(Catlab.CategoricalAlgebra.Categories.Category{Ob, Hom, Catlab.CategoricalAlgebra.FinCats.FinCatSize} where {Ob, Hom}), D<:Catlab.CategoricalAlgebra.Categories.Category, Dom<:(Catlab.CategoricalAlgebra.Categories.Functor{Dom} where Dom<:(Catlab.CategoricalAlgebra.Categories.Category{Ob, Hom, Catlab.CategoricalAlgebra.FinCats.FinCatSize} where {Ob, Hom})), Codom<:(Catlab.CategoricalAlgebra.Categories.Functor{Dom} where Dom<:(Catlab.CategoricalAlgebra.Categories.Category{Ob, Hom, Catlab.CategoricalAlgebra.FinCats.FinCatSize} where {Ob, Hom}))})}, Dict{Symbol, Catlab.CategoricalAlgebra.Diagrams.SimpleDiagram{GATlab.Stdlib.StdModels.op, Catlab.CategoricalAlgebra.FinCats.FinCatPresentation{Catlab.Theories.ThSchema.Meta.T, Union{Catlab.Theories.FreeSchema.AttrType, Catlab.Theories.FreeSchema.Ob}, Union{Catlab.Theories.FreeSchema.Attr, Catlab.Theories.FreeSchema.AttrType, Catlab.Theories.FreeSchema.Hom}}, D} where D<:(Catlab.CategoricalAlgebra.Categories.Functor{<:Catlab.CategoricalAlgebra.Categories.Category{Ob, Hom, Catlab.CategoricalAlgebra.FinCats.FinCatSize} where {Ob, Hom}, Catlab.CategoricalAlgebra.FinCats.FinCatPresentation{Catlab.Theories.ThSchema.Meta.T, Union{Catlab.Theories.FreeSchema.AttrType, Catlab.Theories.FreeSchema.Ob}, Union{Catlab.Theories.FreeSchema.Attr, Catlab.Theories.FreeSchema.AttrType, Catlab.Theories.FreeSchema.Hom}}})}, Dict{Symbol, Catlab.CategoricalAlgebra.Diagrams.SimpleDiagramHom{GATlab.Stdlib.StdModels.op, Catlab.CategoricalAlgebra.FinCats.FinCatPresentation{Catlab.Theories.ThSchema.Meta.T, Union{Catlab.Theories.FreeSchema.AttrType, Catlab.Theories.FreeSchema.Ob}, Union{Catlab.Theories.FreeSchema.Attr, Catlab.Theories.FreeSchema.AttrType, Catlab.Theories.FreeSchema.Hom}}, Catlab.CategoricalAlgebra.FinCats.FinDomFunctorMap{Catlab.CategoricalAlgebra.FinCats.FinCatPresentation{Catlab.Theories.ThSchema.Meta.T, Union{Catlab.Theories.FreeSchema.AttrType, Catlab.Theories.FreeSchema.Ob}, Union{Catlab.Theories.FreeSchema.Attr, Catlab.Theories.FreeSchema.AttrType, Catlab.Theories.FreeSchema.Hom}}, Catlab.CategoricalAlgebra.FinCats.FinCatPresentation{Catlab.Theories.ThSchema.Meta.T, Union{Catlab.Theories.FreeSchema.AttrType, Catlab.Theories.FreeSchema.Ob}, Union{Catlab.Theories.FreeSchema.Attr, Catlab.Theories.FreeSchema.AttrType, Catlab.Theories.FreeSchema.Hom}}, Dict{Symbol, Catlab.Theories.FreeSchema.Ob{:generator}}, Dict{Any, Any}}, Φ, Catlab.CategoricalAlgebra.FinCats.FinDomFunctorMap{Catlab.CategoricalAlgebra.FinCats.FinCatPresentation{Catlab.Theories.ThSchema.Meta.T, Union{Catlab.Theories.FreeSchema.AttrType, Catlab.Theories.FreeSchema.Ob}, Union{Catlab.Theories.FreeSchema.Attr, Catlab.Theories.FreeSchema.AttrType, Catlab.Theories.FreeSchema.Hom}}, Catlab.CategoricalAlgebra.FinCats.FinCatPresentation{Catlab.Theories.ThSchema.Meta.T, Union{Catlab.Theories.FreeSchema.AttrType, Catlab.Theories.FreeSchema.Ob}, Union{Catlab.Theories.FreeSchema.Attr, Catlab.Theories.FreeSchema.AttrType, Catlab.Theories.FreeSchema.Hom}}, Dict{Symbol, GATlab.Models.SymbolicModels.GATExpr{:generator}}, Dict{Symbol, GATlab.Models.SymbolicModels.GATExpr{:generator}}}} where Φ<:(Catlab.CategoricalAlgebra.Categories.Transformation{C, D, Dom, Codom} where {C<:(Catlab.CategoricalAlgebra.Categories.Category{Ob, Hom, Catlab.CategoricalAlgebra.FinCats.FinCatSize} where {Ob, Hom}), D<:Catlab.CategoricalAlgebra.Categories.Category, Dom<:(Catlab.CategoricalAlgebra.Categories.Functor{Dom} where Dom<:(Catlab.CategoricalAlgebra.Categories.Category{Ob, Hom, Catlab.CategoricalAlgebra.FinCats.FinCatSize} where {Ob, Hom})), Codom<:(Catlab.CategoricalAlgebra.Categories.Functor{Dom} where Dom<:(Catlab.CategoricalAlgebra.Categories.Category{Ob, Hom, Catlab.CategoricalAlgebra.FinCats.FinCatSize} where {Ob, Hom}))})}}, Dict{Any, Union{}}}(FinDomFunctor(Dict{Symbol, Catlab.CategoricalAlgebra.Diagrams.SimpleDiagram{GATlab.Stdlib.StdModels.op, Catlab.CategoricalAlgebra.FinCats.FinCatPresentation{Catlab.Theories.ThSchema.Meta.T, Union{Catlab.Theories.FreeSchema.AttrType, Catlab.Theories.FreeSchema.Ob}, Union{Catlab.Theories.FreeSchema.Attr, Catlab.Theories.FreeSchema.AttrType, Catlab.Theories.FreeSchema.Hom}}, D} where D<:(Catlab.CategoricalAlgebra.Categories.Functor{<:Catlab.CategoricalAlgebra.Categories.Category{Ob, Hom, Catlab.CategoricalAlgebra.FinCats.FinCatSize} where {Ob, Hom}, Catlab.CategoricalAlgebra.FinCats.FinCatPresentation{Catlab.Theories.ThSchema.Meta.T, Union{Catlab.Theories.FreeSchema.AttrType, Catlab.Theories.FreeSchema.Ob}, Union{Catlab.Theories.FreeSchema.Attr, Catlab.Theories.FreeSchema.AttrType, Catlab.Theories.FreeSchema.Hom}}})}(:Job2 => Diagram{op}(FinFunctor(Dict{Symbol, Catlab.Theories.FreeSchema.Ob{:generator}}(:Jobs => Jobs), Dict{Symbol, Union{Catlab.Theories.FreeSchema.Attr, Catlab.Theories.FreeSchema.AttrType, Catlab.Theories.FreeSchema.Hom}}(), FinCat(Presentation{T, Symbol}(Catlab.Theories.FreeSchema, (Ob = Ob{:generator}[Jobs], Hom = Hom{:generator}[], AttrType = AttrType{:generator}[], Attr = Attr{:generator}[]), Dict(:Jobs=>(:Ob=>1)), Pair[])), FinCat(Presentation{T, Symbol}(Catlab.Theories.FreeSchema, (Ob = Ob{:generator}[Jobs, Workers], Hom = Hom{:generator}[assignment], AttrType = AttrType{:generator}[Time], Attr = Attr{:generator}[time]), Dict(:Jobs=>(:Ob=>1), :Workers=>(:Ob=>2), :assignment=>(:Hom=>1), :Time=>(:AttrType=>1), :time=>(:Attr=>1)), Pair[])))), :Workers => Diagram{op}(FinFunctor(Dict{Symbol, Catlab.Theories.FreeSchema.Ob{:generator}}(:Workers => Workers), Dict{Symbol, Union{Catlab.Theories.FreeSchema.Attr, Catlab.Theories.FreeSchema.AttrType, Catlab.Theories.FreeSchema.Hom}}(), FinCat(Presentation{T, Symbol}(Catlab.Theories.FreeSchema, (Ob = Ob{:generator}[Workers], Hom = Hom{:generator}[], AttrType = AttrType{:generator}[], Attr = Attr{:generator}[]), Dict(:Workers=>(:Ob=>1)), Pair[])), FinCat(Presentation{T, Symbol}(Catlab.Theories.FreeSchema, (Ob = Ob{:generator}[Jobs, Workers], Hom = Hom{:generator}[assignment], AttrType = AttrType{:generator}[Time], Attr = Attr{:generator}[time]), Dict(:Jobs=>(:Ob=>1), :Workers=>(:Ob=>2), :assignment=>(:Hom=>1), :Time=>(:AttrType=>1), :time=>(:Attr=>1)), Pair[])))), :Job1 => Diagram{op}(FinFunctor(Dict{Symbol, Catlab.Theories.FreeSchema.Ob{:generator}}(:Jobs => Jobs), Dict{Symbol, Union{Catlab.Theories.FreeSchema.Attr, Catlab.Theories.FreeSchema.AttrType, Catlab.Theories.FreeSchema.Hom}}(), FinCat(Presentation{T, Symbol}(Catlab.Theories.FreeSchema, (Ob = Ob{:generator}[Jobs], Hom = Hom{:generator}[], AttrType = AttrType{:generator}[], Attr = Attr{:generator}[]), Dict(:Jobs=>(:Ob=>1)), Pair[])), FinCat(Presentation{T, Symbol}(Catlab.Theories.FreeSchema, (Ob = Ob{:generator}[Jobs, Workers], Hom = Hom{:generator}[assignment], AttrType = AttrType{:generator}[Time], Attr = Attr{:generator}[time]), Dict(:Jobs=>(:Ob=>1), :Workers=>(:Ob=>2), :assignment=>(:Hom=>1), :Time=>(:AttrType=>1), :time=>(:Attr=>1)), Pair[])))), :ConflictedPairs => Diagram{op}(FinFunctor(Dict{Symbol, GATlab.Models.SymbolicModels.GATExpr{:generator}}(:T => Time, :W => Workers, :X => Jobs, :Y => Jobs), Dict{Symbol, GATlab.Models.SymbolicModels.GATExpr{:generator}}(:a => assignment, :b => assignment, :s => time, :t => time), FinCat(Presentation{T, Symbol}(Catlab.Theories.FreeSchema, (Ob = Ob{:generator}[X, Y, W, T], Hom = Hom{:generator}[a, b, t, s], AttrType = AttrType{:generator}[], Attr = Attr{:generator}[]), Dict(:T=>(:Ob=>4), :a=>(:Hom=>1), :b=>(:Hom=>2), :s=>(:Hom=>4), :W=>(:Ob=>3), :X=>(:Ob=>1), :Y=>(:Ob=>2), :t=>(:Hom=>3)), Pair[])), FinCat(Presentation{T, Symbol}(Catlab.Theories.FreeSchema, (Ob = Ob{:generator}[Jobs, Workers], Hom = Hom{:generator}[assignment], AttrType = AttrType{:generator}[Time], Attr = Attr{:generator}[time]), Dict(:Jobs=>(:Ob=>1), :Workers=>(:Ob=>2), :assignment=>(:Hom=>1), :Time=>(:AttrType=>1), :time=>(:Attr=>1)), Pair[])))), :Time => Diagram{op}(FinFunctor(Dict{Symbol, Catlab.Theories.FreeSchema.AttrType{:generator}}(:Time => Time), Dict{Symbol, Union{Catlab.Theories.FreeSchema.Attr, Catlab.Theories.FreeSchema.AttrType, Catlab.Theories.FreeSchema.Hom}}(), FinCat(Presentation{T, Symbol}(Catlab.Theories.FreeSchema, (Ob = Ob{:generator}[Time], Hom = Hom{:generator}[], AttrType = AttrType{:generator}[], Attr = Attr{:generator}[]), Dict(:Time=>(:Ob=>1)), Pair[])), FinCat(Presentation{T, Symbol}(Catlab.Theories.FreeSchema, (Ob = Ob{:generator}[Jobs, Workers], Hom = Hom{:generator}[assignment], AttrType = AttrType{:generator}[Time], Attr = Attr{:generator}[time]), Dict(:Jobs=>(:Ob=>1), :Workers=>(:Ob=>2), :assignment=>(:Hom=>1), :Time=>(:AttrType=>1), :time=>(:Attr=>1)), Pair[]))))), Dict{Symbol, Catlab.CategoricalAlgebra.Diagrams.SimpleDiagramHom{GATlab.Stdlib.StdModels.op, Catlab.CategoricalAlgebra.FinCats.FinCatPresentation{Catlab.Theories.ThSchema.Meta.T, Union{Catlab.Theories.FreeSchema.AttrType, Catlab.Theories.FreeSchema.Ob}, Union{Catlab.Theories.FreeSchema.Attr, Catlab.Theories.FreeSchema.AttrType, Catlab.Theories.FreeSchema.Hom}}, Catlab.CategoricalAlgebra.FinCats.FinDomFunctorMap{Catlab.CategoricalAlgebra.FinCats.FinCatPresentation{Catlab.Theories.ThSchema.Meta.T, Union{Catlab.Theories.FreeSchema.AttrType, Catlab.Theories.FreeSchema.Ob}, Union{Catlab.Theories.FreeSchema.Attr, Catlab.Theories.FreeSchema.AttrType, Catlab.Theories.FreeSchema.Hom}}, Catlab.CategoricalAlgebra.FinCats.FinCatPresentation{Catlab.Theories.ThSchema.Meta.T, Union{Catlab.Theories.FreeSchema.AttrType, Catlab.Theories.FreeSchema.Ob}, Union{Catlab.Theories.FreeSchema.Attr, Catlab.Theories.FreeSchema.AttrType, Catlab.Theories.FreeSchema.Hom}}, Dict{Symbol, Catlab.Theories.FreeSchema.Ob{:generator}}, Dict{Any, Any}}, Φ, Catlab.CategoricalAlgebra.FinCats.FinDomFunctorMap{Catlab.CategoricalAlgebra.FinCats.FinCatPresentation{Catlab.Theories.ThSchema.Meta.T, Union{Catlab.Theories.FreeSchema.AttrType, Catlab.Theories.FreeSchema.Ob}, Union{Catlab.Theories.FreeSchema.Attr, Catlab.Theories.FreeSchema.AttrType, Catlab.Theories.FreeSchema.Hom}}, Catlab.CategoricalAlgebra.FinCats.FinCatPresentation{Catlab.Theories.ThSchema.Meta.T, Union{Catlab.Theories.FreeSchema.AttrType, Catlab.Theories.FreeSchema.Ob}, Union{Catlab.Theories.FreeSchema.Attr, Catlab.Theories.FreeSchema.AttrType, Catlab.Theories.FreeSchema.Hom}}, Dict{Symbol, GATlab.Models.SymbolicModels.GATExpr{:generator}}, Dict{Symbol, GATlab.Models.SymbolicModels.GATExpr{:generator}}}} where Φ<:(Catlab.CategoricalAlgebra.Categories.Transformation{C, D, Dom, Codom} where {C<:(Catlab.CategoricalAlgebra.Categories.Category{Ob, Hom, Catlab.CategoricalAlgebra.FinCats.FinCatSize} where {Ob, Hom}), D<:Catlab.CategoricalAlgebra.Categories.Category, Dom<:(Catlab.CategoricalAlgebra.Categories.Functor{Dom} where Dom<:(Catlab.CategoricalAlgebra.Categories.Category{Ob, Hom, Catlab.CategoricalAlgebra.FinCats.FinCatSize} where {Ob, Hom})), Codom<:(Catlab.CategoricalAlgebra.Categories.Functor{Dom} where Dom<:(Catlab.CategoricalAlgebra.Categories.Category{Ob, Hom, Catlab.CategoricalAlgebra.FinCats.FinCatSize} where {Ob, Hom}))})}(:job1 => DiagramHom{op}([(X, id(Jobs))], [], FinFunctor(Dict{Symbol, GATExpr{:generator}}(:T=>Time, :W=>Workers, :X=>Jobs, :Y=>Jobs), Dict{Symbol, GATExpr{:generator}}(:a=>assignment, :b=>assignment, :s=>time, :t=>time), …), FinFunctor(Dict{Symbol, Ob{:generator}}(:Jobs=>Jobs), Dict{Symbol, Union{Attr, AttrType, Hom}}(), …)), :assignment => DiagramHom{op}([(X, assignment)], [], FinFunctor(Dict{Symbol, GATExpr{:generator}}(:T=>Time, :W=>Workers, :X=>Jobs, :Y=>Jobs), Dict{Symbol, GATExpr{:generator}}(:a=>assignment, :b=>assignment, :s=>time, :t=>time), …), FinFunctor(Dict{Symbol, Ob{:generator}}(:Workers=>Workers), Dict{Symbol, Union{Attr, AttrType, Hom}}(), …)), :job2 => DiagramHom{op}([(Y, id(Jobs))], [], FinFunctor(Dict{Symbol, GATExpr{:generator}}(:T=>Time, :W=>Workers, :X=>Jobs, :Y=>Jobs), Dict{Symbol, GATExpr{:generator}}(:a=>assignment, :b=>assignment, :s=>time, :t=>time), …), FinFunctor(Dict{Symbol, Ob{:generator}}(:Jobs=>Jobs), Dict{Symbol, Union{Attr, AttrType, Hom}}(), …)), :time => DiagramHom{op}([(X, time)], [], FinFunctor(Dict{Symbol, GATExpr{:generator}}(:T=>Time, :W=>Workers, :X=>Jobs, :Y=>Jobs), Dict{Symbol, GATExpr{:generator}}(:a=>assignment, :b=>assignment, :s=>time, :t=>time), …), FinFunctor(Dict{Symbol, AttrType{:generator}}(:Time=>Time), Dict{Symbol, Union{Attr, AttrType, Hom}}(), …))), FinCat(Presentation{T, Symbol}(Catlab.Theories.FreeSchema, (Ob = Ob{:generator}[ConflictedPairs, Job1, Job2, Workers], Hom = Hom{:generator}[assignment, job1, job2], AttrType = AttrType{:generator}[Time], Attr = Attr{:generator}[time]), Dict(:time=>(:Attr=>1), :Job2=>(:Ob=>3), :Workers=>(:Ob=>4), :assignment=>(:Hom=>1), :Job1=>(:Ob=>2), :ConflictedPairs=>(:Ob=>1), :job2=>(:Hom=>3), :Time=>(:AttrType=>1), :job1=>(:Hom=>2)), Pair[])), TypeCat(Catlab.CategoricalAlgebra.Diagrams.SimpleDiagram{GATlab.Stdlib.StdModels.op, Catlab.CategoricalAlgebra.FinCats.FinCatPresentation{Catlab.Theories.ThSchema.Meta.T, Union{Catlab.Theories.FreeSchema.AttrType, Catlab.Theories.FreeSchema.Ob}, Union{Catlab.Theories.FreeSchema.Attr, Catlab.Theories.FreeSchema.AttrType, Catlab.Theories.FreeSchema.Hom}}, D} where D<:(Catlab.CategoricalAlgebra.Categories.Functor{<:Catlab.CategoricalAlgebra.Categories.Category{Ob, Hom, Catlab.CategoricalAlgebra.FinCats.FinCatSize} where {Ob, Hom}, Catlab.CategoricalAlgebra.FinCats.FinCatPresentation{Catlab.Theories.ThSchema.Meta.T, Union{Catlab.Theories.FreeSchema.AttrType, Catlab.Theories.FreeSchema.Ob}, Union{Catlab.Theories.FreeSchema.Attr, Catlab.Theories.FreeSchema.AttrType, Catlab.Theories.FreeSchema.Hom}}}), Catlab.CategoricalAlgebra.Diagrams.SimpleDiagramHom{GATlab.Stdlib.StdModels.op, Catlab.CategoricalAlgebra.FinCats.FinCatPresentation{Catlab.Theories.ThSchema.Meta.T, Union{Catlab.Theories.FreeSchema.AttrType, Catlab.Theories.FreeSchema.Ob}, Union{Catlab.Theories.FreeSchema.Attr, Catlab.Theories.FreeSchema.AttrType, Catlab.Theories.FreeSchema.Hom}}, Catlab.CategoricalAlgebra.FinCats.FinDomFunctorMap{Catlab.CategoricalAlgebra.FinCats.FinCatPresentation{Catlab.Theories.ThSchema.Meta.T, Union{Catlab.Theories.FreeSchema.AttrType, Catlab.Theories.FreeSchema.Ob}, Union{Catlab.Theories.FreeSchema.Attr, Catlab.Theories.FreeSchema.AttrType, Catlab.Theories.FreeSchema.Hom}}, Catlab.CategoricalAlgebra.FinCats.FinCatPresentation{Catlab.Theories.ThSchema.Meta.T, Union{Catlab.Theories.FreeSchema.AttrType, Catlab.Theories.FreeSchema.Ob}, Union{Catlab.Theories.FreeSchema.Attr, Catlab.Theories.FreeSchema.AttrType, Catlab.Theories.FreeSchema.Hom}}, Dict{Symbol, Catlab.Theories.FreeSchema.Ob{:generator}}, Dict{Any, Any}}, Φ, Catlab.CategoricalAlgebra.FinCats.FinDomFunctorMap{Catlab.CategoricalAlgebra.FinCats.FinCatPresentation{Catlab.Theories.ThSchema.Meta.T, Union{Catlab.Theories.FreeSchema.AttrType, Catlab.Theories.FreeSchema.Ob}, Union{Catlab.Theories.FreeSchema.Attr, Catlab.Theories.FreeSchema.AttrType, Catlab.Theories.FreeSchema.Hom}}, Catlab.CategoricalAlgebra.FinCats.FinCatPresentation{Catlab.Theories.ThSchema.Meta.T, Union{Catlab.Theories.FreeSchema.AttrType, Catlab.Theories.FreeSchema.Ob}, Union{Catlab.Theories.FreeSchema.Attr, Catlab.Theories.FreeSchema.AttrType, Catlab.Theories.FreeSchema.Hom}}, Dict{Symbol, GATlab.Models.SymbolicModels.GATExpr{:generator}}, Dict{Symbol, GATlab.Models.SymbolicModels.GATExpr{:generator}}}} where Φ<:(Catlab.CategoricalAlgebra.Categories.Transformation{C, D, Dom, Codom} where {C<:(Catlab.CategoricalAlgebra.Categories.Category{Ob, Hom, Catlab.CategoricalAlgebra.FinCats.FinCatSize} where {Ob, Hom}), D<:Catlab.CategoricalAlgebra.Categories.Category, Dom<:(Catlab.CategoricalAlgebra.Categories.Functor{Dom} where Dom<:(Catlab.CategoricalAlgebra.Categories.Category{Ob, Hom, Catlab.CategoricalAlgebra.FinCats.FinCatSize} where {Ob, Hom})), Codom<:(Catlab.CategoricalAlgebra.Categories.Functor{Dom} where Dom<:(Catlab.CategoricalAlgebra.Categories.Category{Ob, Hom, Catlab.CategoricalAlgebra.FinCats.FinCatSize} where {Ob, Hom}))}))), Dict{Any, Union{}}())"
     },
     "metadata": {},
     "execution_count": 5
    }
   ],
   "cell_type": "code",
   "source": [
    "N = @migration SchConflicts SchSchedule begin\n",
    "  ConflictedPairs => @join begin\n",
    "                      X::Jobs\n",
    "                      Y::Jobs\n",
    "                      W::Workers\n",
    "                      T::Time\n",
    "                      (a:X→W)::assignment\n",
    "                      (b:Y→W)::assignment\n",
    "                      (t:X→T)::time\n",
    "                      (s:Y→T)::time\n",
    "  end\n",
    "  Job1 => Jobs\n",
    "  Job2 => Jobs\n",
    "  Workers => Workers\n",
    "  assignment => assignment(X)\n",
    "  job1 => X\n",
    "  job2 => Y\n",
    "  Time => Time\n",
    "  time => time(X)\n",
    "end"
   ],
   "metadata": {},
   "execution_count": 5
  },
  {
   "cell_type": "markdown",
   "source": [
    "Most of this migration is easy enough, but the image of `ConflictedPairs``\n",
    "is quite complicated. We've specified a *diagram* in `SchSchedule`,\n",
    "given by mapping the graph with vertices `X,Y,W,T` and edges\n",
    "`a,b,t,s` into that schema according to the mapping given to the right of\n",
    "the double colons."
   ],
   "metadata": {}
  },
  {
   "cell_type": "markdown",
   "source": [
    "What the `@join` decoration does is instruct the migration to send a `Schedule`\n",
    "`A`` to a `Conflicts` `B` whose `ConflictedPairs` are the set of all ways to\n",
    "choose an element of `A`'s `Jobs` for `X` and for `Y`, an element of\n",
    "`A`'s `Workers` for `W`, and an element of `A`'s `Time` for `T`, in such a\n",
    "way that moving along any of the four edges sends one of the selected choices to\n",
    "another. What this amounts to is, as promised, all the ways to choose two jobs\n",
    "assigned the same worker and the same time. Let's see it in action. We'll\n",
    "use Julia's `Time` type for the `Time` attribute but for now, times will be on\n",
    "whole hours."
   ],
   "metadata": {}
  },
  {
   "outputs": [
    {
     "output_type": "execute_result",
     "data": {
      "text/plain": "Main.var\"##231\".Schedule{Dates.Time} {Jobs:7, Workers:3, Time:0}\n┌──────┬────────────┬──────────┐\n│\u001b[1m Jobs │\u001b[1m assignment │\u001b[1m     time │\n├──────┼────────────┼──────────┤\n│\u001b[1m    1 │          1 │ 09:00:00 │\n│\u001b[1m    2 │          3 │ 09:00:00 │\n│\u001b[1m    3 │          2 │ 10:00:00 │\n│\u001b[1m    4 │          2 │ 11:00:00 │\n│\u001b[1m    5 │          3 │ 10:00:00 │\n│\u001b[1m    6 │          1 │ 10:00:00 │\n│\u001b[1m    7 │          1 │ 09:00:00 │\n└──────┴────────────┴──────────┘\n",
      "text/html": [
       "<div class=\"c-set\">\n",
       "<span class=\"c-set-summary\">Main.var\"##231\".Schedule{Dates.Time} {Jobs:7, Workers:3, Time:0}</span>\n",
       "<table>\n",
       "  <thead>\n",
       "    <tr class = \"header headerLastRow\">\n",
       "      <th class = \"rowLabel\" style = \"font-weight: bold; text-align: right;\">Jobs</th>\n",
       "      <th style = \"text-align: right;\">assignment</th>\n",
       "      <th style = \"text-align: right;\">time</th>\n",
       "    </tr>\n",
       "  </thead>\n",
       "  <tbody>\n",
       "    <tr>\n",
       "      <td class = \"rowLabel\" style = \"font-weight: bold; text-align: right;\">1</td>\n",
       "      <td style = \"text-align: right;\">1</td>\n",
       "      <td style = \"text-align: right;\">09:00:00</td>\n",
       "    </tr>\n",
       "    <tr>\n",
       "      <td class = \"rowLabel\" style = \"font-weight: bold; text-align: right;\">2</td>\n",
       "      <td style = \"text-align: right;\">3</td>\n",
       "      <td style = \"text-align: right;\">09:00:00</td>\n",
       "    </tr>\n",
       "    <tr>\n",
       "      <td class = \"rowLabel\" style = \"font-weight: bold; text-align: right;\">3</td>\n",
       "      <td style = \"text-align: right;\">2</td>\n",
       "      <td style = \"text-align: right;\">10:00:00</td>\n",
       "    </tr>\n",
       "    <tr>\n",
       "      <td class = \"rowLabel\" style = \"font-weight: bold; text-align: right;\">4</td>\n",
       "      <td style = \"text-align: right;\">2</td>\n",
       "      <td style = \"text-align: right;\">11:00:00</td>\n",
       "    </tr>\n",
       "    <tr>\n",
       "      <td class = \"rowLabel\" style = \"font-weight: bold; text-align: right;\">5</td>\n",
       "      <td style = \"text-align: right;\">3</td>\n",
       "      <td style = \"text-align: right;\">10:00:00</td>\n",
       "    </tr>\n",
       "    <tr>\n",
       "      <td class = \"rowLabel\" style = \"font-weight: bold; text-align: right;\">6</td>\n",
       "      <td style = \"text-align: right;\">1</td>\n",
       "      <td style = \"text-align: right;\">10:00:00</td>\n",
       "    </tr>\n",
       "    <tr>\n",
       "      <td class = \"rowLabel\" style = \"font-weight: bold; text-align: right;\">7</td>\n",
       "      <td style = \"text-align: right;\">1</td>\n",
       "      <td style = \"text-align: right;\">09:00:00</td>\n",
       "    </tr>\n",
       "  </tbody>\n",
       "</table>\n",
       "</div>\n"
      ]
     },
     "metadata": {},
     "execution_count": 6
    }
   ],
   "cell_type": "code",
   "source": [
    "using Dates\n",
    "A = @acset Schedule{Time} begin\n",
    "  Jobs = 7\n",
    "  Workers = 3\n",
    "  assignment = [1,3,2,2,3,1,1]\n",
    "  time = Time.([9,9,10,11,10,10,9])\n",
    "end"
   ],
   "metadata": {},
   "execution_count": 6
  },
  {
   "cell_type": "markdown",
   "source": [
    "You can probably spot that we ought to get one conflict, since worker 1\n",
    "is supposed to be doing both jobs 1 and 7 at 9:00am. Let's check:"
   ],
   "metadata": {}
  },
  {
   "outputs": [
    {
     "output_type": "execute_result",
     "data": {
      "text/plain": "Main.var\"##231\".Conflicts{Dates.Time} {ConflictedPairs:9, Job1:7, Job2:7, Workers:3, Time:0}\n┌─────────────────┬────────────┬──────┬──────┬──────────┐\n│\u001b[1m ConflictedPairs │\u001b[1m assignment │\u001b[1m job1 │\u001b[1m job2 │\u001b[1m     time │\n├─────────────────┼────────────┼──────┼──────┼──────────┤\n│\u001b[1m               1 │          1 │    1 │    1 │ 09:00:00 │\n│\u001b[1m               2 │          1 │    1 │    7 │ 09:00:00 │\n│\u001b[1m               3 │          3 │    2 │    2 │ 09:00:00 │\n│\u001b[1m               4 │          2 │    3 │    3 │ 10:00:00 │\n│\u001b[1m               5 │          2 │    4 │    4 │ 11:00:00 │\n│\u001b[1m               6 │          3 │    5 │    5 │ 10:00:00 │\n│\u001b[1m               7 │          1 │    6 │    6 │ 10:00:00 │\n│\u001b[1m               8 │          1 │    7 │    1 │ 09:00:00 │\n│\u001b[1m               9 │          1 │    7 │    7 │ 09:00:00 │\n└─────────────────┴────────────┴──────┴──────┴──────────┘\n",
      "text/html": [
       "<div class=\"c-set\">\n",
       "<span class=\"c-set-summary\">Main.var\"##231\".Conflicts{Dates.Time} {ConflictedPairs:9, Job1:7, Job2:7, Workers:3, Time:0}</span>\n",
       "<table>\n",
       "  <thead>\n",
       "    <tr class = \"header headerLastRow\">\n",
       "      <th class = \"rowLabel\" style = \"font-weight: bold; text-align: right;\">ConflictedPairs</th>\n",
       "      <th style = \"text-align: right;\">assignment</th>\n",
       "      <th style = \"text-align: right;\">job1</th>\n",
       "      <th style = \"text-align: right;\">job2</th>\n",
       "      <th style = \"text-align: right;\">time</th>\n",
       "    </tr>\n",
       "  </thead>\n",
       "  <tbody>\n",
       "    <tr>\n",
       "      <td class = \"rowLabel\" style = \"font-weight: bold; text-align: right;\">1</td>\n",
       "      <td style = \"text-align: right;\">1</td>\n",
       "      <td style = \"text-align: right;\">1</td>\n",
       "      <td style = \"text-align: right;\">1</td>\n",
       "      <td style = \"text-align: right;\">09:00:00</td>\n",
       "    </tr>\n",
       "    <tr>\n",
       "      <td class = \"rowLabel\" style = \"font-weight: bold; text-align: right;\">2</td>\n",
       "      <td style = \"text-align: right;\">1</td>\n",
       "      <td style = \"text-align: right;\">1</td>\n",
       "      <td style = \"text-align: right;\">7</td>\n",
       "      <td style = \"text-align: right;\">09:00:00</td>\n",
       "    </tr>\n",
       "    <tr>\n",
       "      <td class = \"rowLabel\" style = \"font-weight: bold; text-align: right;\">3</td>\n",
       "      <td style = \"text-align: right;\">3</td>\n",
       "      <td style = \"text-align: right;\">2</td>\n",
       "      <td style = \"text-align: right;\">2</td>\n",
       "      <td style = \"text-align: right;\">09:00:00</td>\n",
       "    </tr>\n",
       "    <tr>\n",
       "      <td class = \"rowLabel\" style = \"font-weight: bold; text-align: right;\">4</td>\n",
       "      <td style = \"text-align: right;\">2</td>\n",
       "      <td style = \"text-align: right;\">3</td>\n",
       "      <td style = \"text-align: right;\">3</td>\n",
       "      <td style = \"text-align: right;\">10:00:00</td>\n",
       "    </tr>\n",
       "    <tr>\n",
       "      <td class = \"rowLabel\" style = \"font-weight: bold; text-align: right;\">5</td>\n",
       "      <td style = \"text-align: right;\">2</td>\n",
       "      <td style = \"text-align: right;\">4</td>\n",
       "      <td style = \"text-align: right;\">4</td>\n",
       "      <td style = \"text-align: right;\">11:00:00</td>\n",
       "    </tr>\n",
       "    <tr>\n",
       "      <td class = \"rowLabel\" style = \"font-weight: bold; text-align: right;\">6</td>\n",
       "      <td style = \"text-align: right;\">3</td>\n",
       "      <td style = \"text-align: right;\">5</td>\n",
       "      <td style = \"text-align: right;\">5</td>\n",
       "      <td style = \"text-align: right;\">10:00:00</td>\n",
       "    </tr>\n",
       "    <tr>\n",
       "      <td class = \"rowLabel\" style = \"font-weight: bold; text-align: right;\">7</td>\n",
       "      <td style = \"text-align: right;\">1</td>\n",
       "      <td style = \"text-align: right;\">6</td>\n",
       "      <td style = \"text-align: right;\">6</td>\n",
       "      <td style = \"text-align: right;\">10:00:00</td>\n",
       "    </tr>\n",
       "    <tr>\n",
       "      <td class = \"rowLabel\" style = \"font-weight: bold; text-align: right;\">8</td>\n",
       "      <td style = \"text-align: right;\">1</td>\n",
       "      <td style = \"text-align: right;\">7</td>\n",
       "      <td style = \"text-align: right;\">1</td>\n",
       "      <td style = \"text-align: right;\">09:00:00</td>\n",
       "    </tr>\n",
       "    <tr>\n",
       "      <td class = \"rowLabel\" style = \"font-weight: bold; text-align: right;\">9</td>\n",
       "      <td style = \"text-align: right;\">1</td>\n",
       "      <td style = \"text-align: right;\">7</td>\n",
       "      <td style = \"text-align: right;\">7</td>\n",
       "      <td style = \"text-align: right;\">09:00:00</td>\n",
       "    </tr>\n",
       "  </tbody>\n",
       "</table>\n",
       "</div>\n"
      ]
     },
     "metadata": {},
     "execution_count": 7
    }
   ],
   "cell_type": "code",
   "source": [
    "A′ = migrate(Conflicts,A,N)"
   ],
   "metadata": {},
   "execution_count": 7
  }
 ],
 "nbformat_minor": 3,
 "metadata": {
  "language_info": {
   "file_extension": ".jl",
   "mimetype": "application/julia",
   "name": "julia",
   "version": "1.11.5"
  },
  "kernelspec": {
   "name": "julia-1.11",
   "display_name": "Julia 1.11.5",
   "language": "julia"
  }
 },
 "nbformat": 4
}
